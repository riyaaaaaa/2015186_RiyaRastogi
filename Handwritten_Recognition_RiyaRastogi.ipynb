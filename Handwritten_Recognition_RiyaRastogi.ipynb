{
  "nbformat": 4,
  "nbformat_minor": 0,
  "metadata": {
    "colab": {
      "name": "Handwritten Recognition - RiyaRastogi.ipynb",
      "provenance": [],
      "collapsed_sections": [],
      "authorship_tag": "ABX9TyMWCwgvHoAlpLjvkS7kihT9",
      "include_colab_link": true
    },
    "kernelspec": {
      "name": "python3",
      "display_name": "Python 3"
    },
    "language_info": {
      "name": "python"
    }
  },
  "cells": [
    {
      "cell_type": "markdown",
      "metadata": {
        "id": "view-in-github",
        "colab_type": "text"
      },
      "source": [
        "<a href=\"https://colab.research.google.com/github/riyaaaaaa/2015186_RiyaRastogi/blob/main/Handwritten_Recognition_RiyaRastogi.ipynb\" target=\"_parent\"><img src=\"https://colab.research.google.com/assets/colab-badge.svg\" alt=\"Open In Colab\"/></a>"
      ]
    },
    {
      "cell_type": "code",
      "execution_count": 25,
      "metadata": {
        "id": "RHAQ8xSzOvZ2"
      },
      "outputs": [],
      "source": [
        "# This is multiclass classification problem\n",
        "from keras.datasets import mnist\n",
        "dataset = mnist.load_data('mnist.db')"
      ]
    },
    {
      "cell_type": "code",
      "source": [
        "train, test = dataset\n",
        "X_train, y_train = train\n",
        "X_test, y_test = test"
      ],
      "metadata": {
        "id": "qOszBzRSO5xL"
      },
      "execution_count": 26,
      "outputs": []
    },
    {
      "cell_type": "code",
      "source": [
        "len(X_train)\n"
      ],
      "metadata": {
        "colab": {
          "base_uri": "https://localhost:8080/"
        },
        "id": "JlMpbgt2O8c6",
        "outputId": "ac4fcd00-d9d6-4491-f39a-8de811b53e09"
      },
      "execution_count": 27,
      "outputs": [
        {
          "output_type": "execute_result",
          "data": {
            "text/plain": [
              "60000"
            ]
          },
          "metadata": {},
          "execution_count": 27
        }
      ]
    },
    {
      "cell_type": "code",
      "source": [
        "len(X_test)"
      ],
      "metadata": {
        "colab": {
          "base_uri": "https://localhost:8080/"
        },
        "id": "6_looOgfPFHW",
        "outputId": "9488ba73-92f6-439d-bd5e-b9ca0b2c82d9"
      },
      "execution_count": 28,
      "outputs": [
        {
          "output_type": "execute_result",
          "data": {
            "text/plain": [
              "10000"
            ]
          },
          "metadata": {},
          "execution_count": 28
        }
      ]
    },
    {
      "cell_type": "code",
      "source": [
        "# 1st image\n",
        "X_train[0]"
      ],
      "metadata": {
        "colab": {
          "base_uri": "https://localhost:8080/"
        },
        "id": "Tz6xLX6qPJey",
        "outputId": "1010c9ff-a57b-4cc9-c110-bbc3789f5bf2"
      },
      "execution_count": 29,
      "outputs": [
        {
          "output_type": "execute_result",
          "data": {
            "text/plain": [
              "array([[  0,   0,   0,   0,   0,   0,   0,   0,   0,   0,   0,   0,   0,\n",
              "          0,   0,   0,   0,   0,   0,   0,   0,   0,   0,   0,   0,   0,\n",
              "          0,   0],\n",
              "       [  0,   0,   0,   0,   0,   0,   0,   0,   0,   0,   0,   0,   0,\n",
              "          0,   0,   0,   0,   0,   0,   0,   0,   0,   0,   0,   0,   0,\n",
              "          0,   0],\n",
              "       [  0,   0,   0,   0,   0,   0,   0,   0,   0,   0,   0,   0,   0,\n",
              "          0,   0,   0,   0,   0,   0,   0,   0,   0,   0,   0,   0,   0,\n",
              "          0,   0],\n",
              "       [  0,   0,   0,   0,   0,   0,   0,   0,   0,   0,   0,   0,   0,\n",
              "          0,   0,   0,   0,   0,   0,   0,   0,   0,   0,   0,   0,   0,\n",
              "          0,   0],\n",
              "       [  0,   0,   0,   0,   0,   0,   0,   0,   0,   0,   0,   0,   0,\n",
              "          0,   0,   0,   0,   0,   0,   0,   0,   0,   0,   0,   0,   0,\n",
              "          0,   0],\n",
              "       [  0,   0,   0,   0,   0,   0,   0,   0,   0,   0,   0,   0,   3,\n",
              "         18,  18,  18, 126, 136, 175,  26, 166, 255, 247, 127,   0,   0,\n",
              "          0,   0],\n",
              "       [  0,   0,   0,   0,   0,   0,   0,   0,  30,  36,  94, 154, 170,\n",
              "        253, 253, 253, 253, 253, 225, 172, 253, 242, 195,  64,   0,   0,\n",
              "          0,   0],\n",
              "       [  0,   0,   0,   0,   0,   0,   0,  49, 238, 253, 253, 253, 253,\n",
              "        253, 253, 253, 253, 251,  93,  82,  82,  56,  39,   0,   0,   0,\n",
              "          0,   0],\n",
              "       [  0,   0,   0,   0,   0,   0,   0,  18, 219, 253, 253, 253, 253,\n",
              "        253, 198, 182, 247, 241,   0,   0,   0,   0,   0,   0,   0,   0,\n",
              "          0,   0],\n",
              "       [  0,   0,   0,   0,   0,   0,   0,   0,  80, 156, 107, 253, 253,\n",
              "        205,  11,   0,  43, 154,   0,   0,   0,   0,   0,   0,   0,   0,\n",
              "          0,   0],\n",
              "       [  0,   0,   0,   0,   0,   0,   0,   0,   0,  14,   1, 154, 253,\n",
              "         90,   0,   0,   0,   0,   0,   0,   0,   0,   0,   0,   0,   0,\n",
              "          0,   0],\n",
              "       [  0,   0,   0,   0,   0,   0,   0,   0,   0,   0,   0, 139, 253,\n",
              "        190,   2,   0,   0,   0,   0,   0,   0,   0,   0,   0,   0,   0,\n",
              "          0,   0],\n",
              "       [  0,   0,   0,   0,   0,   0,   0,   0,   0,   0,   0,  11, 190,\n",
              "        253,  70,   0,   0,   0,   0,   0,   0,   0,   0,   0,   0,   0,\n",
              "          0,   0],\n",
              "       [  0,   0,   0,   0,   0,   0,   0,   0,   0,   0,   0,   0,  35,\n",
              "        241, 225, 160, 108,   1,   0,   0,   0,   0,   0,   0,   0,   0,\n",
              "          0,   0],\n",
              "       [  0,   0,   0,   0,   0,   0,   0,   0,   0,   0,   0,   0,   0,\n",
              "         81, 240, 253, 253, 119,  25,   0,   0,   0,   0,   0,   0,   0,\n",
              "          0,   0],\n",
              "       [  0,   0,   0,   0,   0,   0,   0,   0,   0,   0,   0,   0,   0,\n",
              "          0,  45, 186, 253, 253, 150,  27,   0,   0,   0,   0,   0,   0,\n",
              "          0,   0],\n",
              "       [  0,   0,   0,   0,   0,   0,   0,   0,   0,   0,   0,   0,   0,\n",
              "          0,   0,  16,  93, 252, 253, 187,   0,   0,   0,   0,   0,   0,\n",
              "          0,   0],\n",
              "       [  0,   0,   0,   0,   0,   0,   0,   0,   0,   0,   0,   0,   0,\n",
              "          0,   0,   0,   0, 249, 253, 249,  64,   0,   0,   0,   0,   0,\n",
              "          0,   0],\n",
              "       [  0,   0,   0,   0,   0,   0,   0,   0,   0,   0,   0,   0,   0,\n",
              "          0,  46, 130, 183, 253, 253, 207,   2,   0,   0,   0,   0,   0,\n",
              "          0,   0],\n",
              "       [  0,   0,   0,   0,   0,   0,   0,   0,   0,   0,   0,   0,  39,\n",
              "        148, 229, 253, 253, 253, 250, 182,   0,   0,   0,   0,   0,   0,\n",
              "          0,   0],\n",
              "       [  0,   0,   0,   0,   0,   0,   0,   0,   0,   0,  24, 114, 221,\n",
              "        253, 253, 253, 253, 201,  78,   0,   0,   0,   0,   0,   0,   0,\n",
              "          0,   0],\n",
              "       [  0,   0,   0,   0,   0,   0,   0,   0,  23,  66, 213, 253, 253,\n",
              "        253, 253, 198,  81,   2,   0,   0,   0,   0,   0,   0,   0,   0,\n",
              "          0,   0],\n",
              "       [  0,   0,   0,   0,   0,   0,  18, 171, 219, 253, 253, 253, 253,\n",
              "        195,  80,   9,   0,   0,   0,   0,   0,   0,   0,   0,   0,   0,\n",
              "          0,   0],\n",
              "       [  0,   0,   0,   0,  55, 172, 226, 253, 253, 253, 253, 244, 133,\n",
              "         11,   0,   0,   0,   0,   0,   0,   0,   0,   0,   0,   0,   0,\n",
              "          0,   0],\n",
              "       [  0,   0,   0,   0, 136, 253, 253, 253, 212, 135, 132,  16,   0,\n",
              "          0,   0,   0,   0,   0,   0,   0,   0,   0,   0,   0,   0,   0,\n",
              "          0,   0],\n",
              "       [  0,   0,   0,   0,   0,   0,   0,   0,   0,   0,   0,   0,   0,\n",
              "          0,   0,   0,   0,   0,   0,   0,   0,   0,   0,   0,   0,   0,\n",
              "          0,   0],\n",
              "       [  0,   0,   0,   0,   0,   0,   0,   0,   0,   0,   0,   0,   0,\n",
              "          0,   0,   0,   0,   0,   0,   0,   0,   0,   0,   0,   0,   0,\n",
              "          0,   0],\n",
              "       [  0,   0,   0,   0,   0,   0,   0,   0,   0,   0,   0,   0,   0,\n",
              "          0,   0,   0,   0,   0,   0,   0,   0,   0,   0,   0,   0,   0,\n",
              "          0,   0]], dtype=uint8)"
            ]
          },
          "metadata": {},
          "execution_count": 29
        }
      ]
    },
    {
      "cell_type": "code",
      "source": [
        "# Check shape \n",
        "X_train[0].shape"
      ],
      "metadata": {
        "colab": {
          "base_uri": "https://localhost:8080/"
        },
        "id": "VBjN22sWPOgz",
        "outputId": "27aa0932-ce00-4c64-862c-a378d7a2f036"
      },
      "execution_count": 30,
      "outputs": [
        {
          "output_type": "execute_result",
          "data": {
            "text/plain": [
              "(28, 28)"
            ]
          },
          "metadata": {},
          "execution_count": 30
        }
      ]
    },
    {
      "cell_type": "code",
      "source": [
        "# Visualize\n",
        "import matplotlib.pyplot as plt \n",
        "plt.imshow(X_train[0], cmap='gray')"
      ],
      "metadata": {
        "colab": {
          "base_uri": "https://localhost:8080/",
          "height": 282
        },
        "id": "7MGe82pFPnqR",
        "outputId": "95d8e241-600e-4c18-e7e7-40ad105e8cf9"
      },
      "execution_count": 31,
      "outputs": [
        {
          "output_type": "execute_result",
          "data": {
            "text/plain": [
              "<matplotlib.image.AxesImage at 0x7fe8b4f76bd0>"
            ]
          },
          "metadata": {},
          "execution_count": 31
        },
        {
          "output_type": "display_data",
          "data": {
            "image/png": "[encoded data removed]",
            "text/plain": [
              "<Figure size 432x288 with 1 Axes>"
            ]
          },
          "metadata": {
            "needs_background": "light"
          }
        }
      ]
    },
    {
      "cell_type": "code",
      "source": [
        "print(y_train[0])  # Actual label for above image"
      ],
      "metadata": {
        "colab": {
          "base_uri": "https://localhost:8080/"
        },
        "id": "YSQ8EsvCPuoR",
        "outputId": "b5fb404c-ad57-493c-e0b8-0b06427d4ed2"
      },
      "execution_count": 32,
      "outputs": [
        {
          "output_type": "stream",
          "name": "stdout",
          "text": [
            "5\n"
          ]
        }
      ]
    },
    {
      "cell_type": "code",
      "source": [
        "# Convert 2D image to 1D \n",
        "X_train.shape\n",
        "# 60000 records of 2D 28 X 28 shape"
      ],
      "metadata": {
        "colab": {
          "base_uri": "https://localhost:8080/"
        },
        "id": "mLOz8DXzP0AO",
        "outputId": "04424488-be8d-4e26-c154-e6a1567a09c3"
      },
      "execution_count": 33,
      "outputs": [
        {
          "output_type": "execute_result",
          "data": {
            "text/plain": [
              "(60000, 28, 28)"
            ]
          },
          "metadata": {},
          "execution_count": 33
        }
      ]
    },
    {
      "cell_type": "code",
      "source": [
        "# Reshaping training data\n",
        "X_train_1d = X_train.reshape(60000, 28*28) \n",
        "X_train_1d.shape"
      ],
      "metadata": {
        "colab": {
          "base_uri": "https://localhost:8080/"
        },
        "id": "7rls2NqrP57V",
        "outputId": "aa93453e-c6e9-4350-9ffb-1cd01cdb82d8"
      },
      "execution_count": 34,
      "outputs": [
        {
          "output_type": "execute_result",
          "data": {
            "text/plain": [
              "(60000, 784)"
            ]
          },
          "metadata": {},
          "execution_count": 34
        }
      ]
    },
    {
      "cell_type": "code",
      "source": [
        "# reshaping test data\n",
        "X_test_1d = X_test.reshape(-1, 28*28) \n",
        "X_test_1d.shape"
      ],
      "metadata": {
        "colab": {
          "base_uri": "https://localhost:8080/"
        },
        "id": "f49OEQoiP_VL",
        "outputId": "9611cff0-c80b-4078-c753-7d0a135a0d89"
      },
      "execution_count": 35,
      "outputs": [
        {
          "output_type": "execute_result",
          "data": {
            "text/plain": [
              "(10000, 784)"
            ]
          },
          "metadata": {},
          "execution_count": 35
        }
      ]
    },
    {
      "cell_type": "code",
      "source": [
        "# convert target y to dummy variable \n",
        "from keras.utils.np_utils import to_categorical\n",
        "y_train_cat = to_categorical(y_train)"
      ],
      "metadata": {
        "id": "cHVXjTGCQGH5"
      },
      "execution_count": 36,
      "outputs": []
    },
    {
      "cell_type": "code",
      "source": [
        "# 10 different classes 0 - 9. \n",
        "y_train_cat"
      ],
      "metadata": {
        "colab": {
          "base_uri": "https://localhost:8080/"
        },
        "id": "Xpbma9bwQTa-",
        "outputId": "d9439efb-cd7e-4752-c2f5-597f87b2b547"
      },
      "execution_count": 37,
      "outputs": [
        {
          "output_type": "execute_result",
          "data": {
            "text/plain": [
              "array([[0., 0., 0., ..., 0., 0., 0.],\n",
              "       [1., 0., 0., ..., 0., 0., 0.],\n",
              "       [0., 0., 0., ..., 0., 0., 0.],\n",
              "       ...,\n",
              "       [0., 0., 0., ..., 0., 0., 0.],\n",
              "       [0., 0., 0., ..., 0., 0., 0.],\n",
              "       [0., 0., 0., ..., 0., 1., 0.]], dtype=float32)"
            ]
          },
          "metadata": {},
          "execution_count": 37
        }
      ]
    },
    {
      "cell_type": "code",
      "source": [
        "# Creating model \n",
        "from keras.models import Sequential\n",
        "model = Sequential()\n",
        "from keras.layers import Dense"
      ],
      "metadata": {
        "id": "eaOTScQ0QbSR"
      },
      "execution_count": 38,
      "outputs": []
    },
    {
      "cell_type": "code",
      "source": [
        "model.add(\n",
        "    Dense(\n",
        "        units = 512, #\n",
        "        input_dim=28*28,\n",
        "        activation=\"relu\"\n",
        "    )\n",
        ")\n",
        "model.add(\n",
        "    Dense(\n",
        "        units=256, \n",
        "        activation=\"relu\"\n",
        "    )\n",
        ")\n",
        "model.add(\n",
        "    Dense(\n",
        "        units=128, \n",
        "        activation=\"relu\"\n",
        "    )\n",
        ")\n",
        "model.add(\n",
        "    Dense(\n",
        "        units=64, \n",
        "        activation=\"relu\"\n",
        "    )\n",
        ")\n",
        "model.add(\n",
        "    Dense(\n",
        "        units=32, \n",
        "        activation=\"relu\"\n",
        "    )\n",
        ")\n",
        "model.add(\n",
        "    Dense(\n",
        "        units=16, \n",
        "        activation=\"relu\"\n",
        "    )\n",
        ")\n",
        "model.add(\n",
        "    Dense(\n",
        "        units=10, \n",
        "        activation=\"softmax\"\n",
        "    )\n",
        ")"
      ],
      "metadata": {
        "id": "ne8fER4LQl1O"
      },
      "execution_count": 39,
      "outputs": []
    },
    {
      "cell_type": "code",
      "source": [
        "# Compile Model \n",
        "from tensorflow.keras.optimizers import Adam\n",
        "model.compile(\n",
        "    optimizer=Adam(learning_rate=0.0005),\n",
        "    loss=\"categorical_crossentropy\",\n",
        "    metrics=[\"accuracy\"]\n",
        ")\n",
        "model.fit(X_train_1d, y_train_cat, epochs=50)"
      ],
      "metadata": {
        "colab": {
          "base_uri": "https://localhost:8080/"
        },
        "id": "cJjuLtleQxH-",
        "outputId": "5e825d03-7ac0-4572-a461-0b2737132ac4"
      },
      "execution_count": 40,
      "outputs": [
        {
          "output_type": "stream",
          "name": "stdout",
          "text": [
            "Epoch 1/50\n",
            "1875/1875 [==============================] - 14s 7ms/step - loss: 0.5001 - accuracy: 0.8799\n",
            "Epoch 2/50\n",
            "1875/1875 [==============================] - 13s 7ms/step - loss: 0.1766 - accuracy: 0.9524\n",
            "Epoch 3/50\n",
            "1875/1875 [==============================] - 13s 7ms/step - loss: 0.1373 - accuracy: 0.9623\n",
            "Epoch 4/50\n",
            "1875/1875 [==============================] - 13s 7ms/step - loss: 0.1053 - accuracy: 0.9708\n",
            "Epoch 5/50\n",
            "1875/1875 [==============================] - 13s 7ms/step - loss: 0.0888 - accuracy: 0.9759\n",
            "Epoch 6/50\n",
            "1875/1875 [==============================] - 13s 7ms/step - loss: 0.0714 - accuracy: 0.9804\n",
            "Epoch 7/50\n",
            "1875/1875 [==============================] - 13s 7ms/step - loss: 0.0630 - accuracy: 0.9832\n",
            "Epoch 8/50\n",
            "1875/1875 [==============================] - 12s 7ms/step - loss: 0.0539 - accuracy: 0.9852\n",
            "Epoch 9/50\n",
            "1875/1875 [==============================] - 13s 7ms/step - loss: 0.0474 - accuracy: 0.9868\n",
            "Epoch 10/50\n",
            "1875/1875 [==============================] - 13s 7ms/step - loss: 0.0447 - accuracy: 0.9881\n",
            "Epoch 11/50\n",
            "1875/1875 [==============================] - 13s 7ms/step - loss: 0.0363 - accuracy: 0.9901\n",
            "Epoch 12/50\n",
            "1875/1875 [==============================] - 13s 7ms/step - loss: 0.0345 - accuracy: 0.9911\n",
            "Epoch 13/50\n",
            "1875/1875 [==============================] - 13s 7ms/step - loss: 0.0335 - accuracy: 0.9909\n",
            "Epoch 14/50\n",
            "1875/1875 [==============================] - 13s 7ms/step - loss: 0.0315 - accuracy: 0.9920\n",
            "Epoch 15/50\n",
            "1875/1875 [==============================] - 13s 7ms/step - loss: 0.0284 - accuracy: 0.9929\n",
            "Epoch 16/50\n",
            "1875/1875 [==============================] - 13s 7ms/step - loss: 0.0313 - accuracy: 0.9921\n",
            "Epoch 17/50\n",
            "1875/1875 [==============================] - 13s 7ms/step - loss: 0.0223 - accuracy: 0.9940\n",
            "Epoch 18/50\n",
            "1875/1875 [==============================] - 13s 7ms/step - loss: 0.0257 - accuracy: 0.9940\n",
            "Epoch 19/50\n",
            "1875/1875 [==============================] - 13s 7ms/step - loss: 0.0209 - accuracy: 0.9948\n",
            "Epoch 20/50\n",
            "1875/1875 [==============================] - 13s 7ms/step - loss: 0.0243 - accuracy: 0.9945\n",
            "Epoch 21/50\n",
            "1875/1875 [==============================] - 13s 7ms/step - loss: 0.0191 - accuracy: 0.9952\n",
            "Epoch 22/50\n",
            "1875/1875 [==============================] - 13s 7ms/step - loss: 0.0174 - accuracy: 0.9957\n",
            "Epoch 23/50\n",
            "1875/1875 [==============================] - 13s 7ms/step - loss: 0.0182 - accuracy: 0.9954\n",
            "Epoch 24/50\n",
            "1875/1875 [==============================] - 13s 7ms/step - loss: 0.0206 - accuracy: 0.9958\n",
            "Epoch 25/50\n",
            "1875/1875 [==============================] - 13s 7ms/step - loss: 0.0149 - accuracy: 0.9963\n",
            "Epoch 26/50\n",
            "1875/1875 [==============================] - 13s 7ms/step - loss: 0.0158 - accuracy: 0.9962\n",
            "Epoch 27/50\n",
            "1875/1875 [==============================] - 13s 7ms/step - loss: 0.0179 - accuracy: 0.9964\n",
            "Epoch 28/50\n",
            "1875/1875 [==============================] - 13s 7ms/step - loss: 0.0168 - accuracy: 0.9964\n",
            "Epoch 29/50\n",
            "1875/1875 [==============================] - 13s 7ms/step - loss: 0.0157 - accuracy: 0.9967\n",
            "Epoch 30/50\n",
            "1875/1875 [==============================] - 13s 7ms/step - loss: 0.0124 - accuracy: 0.9971\n",
            "Epoch 31/50\n",
            "1875/1875 [==============================] - 13s 7ms/step - loss: 0.0183 - accuracy: 0.9967\n",
            "Epoch 32/50\n",
            "1875/1875 [==============================] - 13s 7ms/step - loss: 0.0149 - accuracy: 0.9969\n",
            "Epoch 33/50\n",
            "1875/1875 [==============================] - 13s 7ms/step - loss: 0.0123 - accuracy: 0.9973\n",
            "Epoch 34/50\n",
            "1875/1875 [==============================] - 13s 7ms/step - loss: 0.0155 - accuracy: 0.9965\n",
            "Epoch 35/50\n",
            "1875/1875 [==============================] - 13s 7ms/step - loss: 0.0111 - accuracy: 0.9974\n",
            "Epoch 36/50\n",
            "1875/1875 [==============================] - 13s 7ms/step - loss: 0.0137 - accuracy: 0.9974\n",
            "Epoch 37/50\n",
            "1875/1875 [==============================] - 14s 7ms/step - loss: 0.0095 - accuracy: 0.9977\n",
            "Epoch 38/50\n",
            "1875/1875 [==============================] - 14s 7ms/step - loss: 0.0168 - accuracy: 0.9964\n",
            "Epoch 39/50\n",
            "1875/1875 [==============================] - 13s 7ms/step - loss: 0.0102 - accuracy: 0.9977\n",
            "Epoch 40/50\n",
            "1875/1875 [==============================] - 14s 7ms/step - loss: 0.0141 - accuracy: 0.9975\n",
            "Epoch 41/50\n",
            "1875/1875 [==============================] - 13s 7ms/step - loss: 0.0131 - accuracy: 0.9971\n",
            "Epoch 42/50\n",
            "1875/1875 [==============================] - 13s 7ms/step - loss: 0.0089 - accuracy: 0.9980\n",
            "Epoch 43/50\n",
            "1875/1875 [==============================] - 13s 7ms/step - loss: 0.0149 - accuracy: 0.9972\n",
            "Epoch 44/50\n",
            "1875/1875 [==============================] - 14s 7ms/step - loss: 0.0157 - accuracy: 0.9982\n",
            "Epoch 45/50\n",
            "1875/1875 [==============================] - 13s 7ms/step - loss: 0.0160 - accuracy: 0.9978\n",
            "Epoch 46/50\n",
            "1875/1875 [==============================] - 13s 7ms/step - loss: 0.0119 - accuracy: 0.9977\n",
            "Epoch 47/50\n",
            "1875/1875 [==============================] - 13s 7ms/step - loss: 0.0146 - accuracy: 0.9978\n",
            "Epoch 48/50\n",
            "1875/1875 [==============================] - 13s 7ms/step - loss: 0.0137 - accuracy: 0.9973\n",
            "Epoch 49/50\n",
            "1875/1875 [==============================] - 13s 7ms/step - loss: 0.0119 - accuracy: 0.9975\n",
            "Epoch 50/50\n",
            "1875/1875 [==============================] - 13s 7ms/step - loss: 0.0100 - accuracy: 0.9983\n"
          ]
        },
        {
          "output_type": "execute_result",
          "data": {
            "text/plain": [
              "<keras.callbacks.History at 0x7fe8b4f02c90>"
            ]
          },
          "metadata": {},
          "execution_count": 40
        }
      ]
    },
    {
      "cell_type": "code",
      "source": [
        "loss = model.history.history[\"loss\"]\n",
        "import matplotlib.pyplot as plt \n",
        "plt.plot(loss)"
      ],
      "metadata": {
        "colab": {
          "base_uri": "https://localhost:8080/",
          "height": 282
        },
        "id": "cEvBxcypTdGc",
        "outputId": "8ac9fcbf-1cd5-4fe4-895b-fc96bc072682"
      },
      "execution_count": 41,
      "outputs": [
        {
          "output_type": "execute_result",
          "data": {
            "text/plain": [
              "[<matplotlib.lines.Line2D at 0x7fe8aee935d0>]"
            ]
          },
          "metadata": {},
          "execution_count": 41
        },
        {
          "output_type": "display_data",
          "data": {
            "image/png": "[encoded data removed]",
            "text/plain": [
              "<Figure size 432x288 with 1 Axes>"
            ]
          },
          "metadata": {
            "needs_background": "light"
          }
        }
      ]
    },
    {
      "cell_type": "code",
      "source": [
        "acc = model.history.history[\"accuracy\"]\n",
        "plt.plot(acc)"
      ],
      "metadata": {
        "colab": {
          "base_uri": "https://localhost:8080/",
          "height": 282
        },
        "id": "idaU_JGXTo-b",
        "outputId": "3496403c-1b4b-4f95-a7e4-34e66a2d9cb6"
      },
      "execution_count": 42,
      "outputs": [
        {
          "output_type": "execute_result",
          "data": {
            "text/plain": [
              "[<matplotlib.lines.Line2D at 0x7fe8afea4a50>]"
            ]
          },
          "metadata": {},
          "execution_count": 42
        },
        {
          "output_type": "display_data",
          "data": {
            "image/png": "[encoded data removed]",
            "text/plain": [
              "<Figure size 432x288 with 1 Axes>"
            ]
          },
          "metadata": {
            "needs_background": "light"
          }
        }
      ]
    },
    {
      "cell_type": "code",
      "source": [
        "model.save(\"mnist-acc-0.9991.h5\")"
      ],
      "metadata": {
        "id": "SK1SvVMbTrnA"
      },
      "execution_count": 43,
      "outputs": []
    },
    {
      "cell_type": "code",
      "source": [
        "# Testing\n",
        "imgTest = X_test[15]\n",
        "plt.imshow(imgTest)"
      ],
      "metadata": {
        "colab": {
          "base_uri": "https://localhost:8080/",
          "height": 282
        },
        "id": "SEOpSqcKTy_g",
        "outputId": "54f34b22-159c-437c-aadb-98c83f9f2f4c"
      },
      "execution_count": 44,
      "outputs": [
        {
          "output_type": "execute_result",
          "data": {
            "text/plain": [
              "<matplotlib.image.AxesImage at 0x7fe8afe08d50>"
            ]
          },
          "metadata": {},
          "execution_count": 44
        },
        {
          "output_type": "display_data",
          "data": {
            "image/png": "[encoded data removed]",
            "text/plain": [
              "<Figure size 432x288 with 1 Axes>"
            ]
          },
          "metadata": {
            "needs_background": "light"
          }
        }
      ]
    },
    {
      "cell_type": "code",
      "source": [
        "sample = imgTest.reshape(1, 28*28)\n",
        "pred = model.predict(sample)"
      ],
      "metadata": {
        "id": "UdcqQVkZT5Xq"
      },
      "execution_count": 45,
      "outputs": []
    },
    {
      "cell_type": "code",
      "source": [
        "pred"
      ],
      "metadata": {
        "colab": {
          "base_uri": "https://localhost:8080/"
        },
        "id": "oYwBVUt2UDl5",
        "outputId": "c59a90d4-76f5-4839-e079-9cd3af42a299"
      },
      "execution_count": 46,
      "outputs": [
        {
          "output_type": "execute_result",
          "data": {
            "text/plain": [
              "array([[2.7353744e-21, 2.2884239e-27, 3.4916223e-37, 3.3429029e-13,\n",
              "        2.8446236e-27, 1.0000000e+00, 7.4046227e-25, 3.4102750e-27,\n",
              "        1.9060170e-15, 1.2355381e-21]], dtype=float32)"
            ]
          },
          "metadata": {},
          "execution_count": 46
        }
      ]
    },
    {
      "cell_type": "code",
      "source": [
        "import numpy as np \n",
        "max_val = np.amax(pred)"
      ],
      "metadata": {
        "id": "LKVr9qb6UpO9"
      },
      "execution_count": 47,
      "outputs": []
    },
    {
      "cell_type": "code",
      "source": [
        "result = np.where(pred == np.amax(pred))\n",
        "max(result)"
      ],
      "metadata": {
        "colab": {
          "base_uri": "https://localhost:8080/"
        },
        "id": "ePd8BtPoUx4a",
        "outputId": "2c25fd0c-1dfc-40a4-9754-19d73e3f5bc6"
      },
      "execution_count": 48,
      "outputs": [
        {
          "output_type": "execute_result",
          "data": {
            "text/plain": [
              "array([5])"
            ]
          },
          "metadata": {},
          "execution_count": 48
        }
      ]
    },
    {
      "cell_type": "code",
      "source": [
        "model_predictions = model.predict(X_test_1d)\n",
        "result = np.where(model_predictions == np.amax(model_predictions))\n",
        "index = result[1]"
      ],
      "metadata": {
        "id": "3lv_gjzhU16u"
      },
      "execution_count": 49,
      "outputs": []
    },
    {
      "cell_type": "code",
      "source": [
        "index #Predictions"
      ],
      "metadata": {
        "colab": {
          "base_uri": "https://localhost:8080/"
        },
        "id": "NrVfLeuZU-UB",
        "outputId": "568baa9f-3b17-4347-f159-dafee3564f52"
      },
      "execution_count": 50,
      "outputs": [
        {
          "output_type": "execute_result",
          "data": {
            "text/plain": [
              "array([7, 2, 1, ..., 3, 4, 5])"
            ]
          },
          "metadata": {},
          "execution_count": 50
        }
      ]
    },
    {
      "cell_type": "code",
      "source": [
        "y_test # actual answers"
      ],
      "metadata": {
        "colab": {
          "base_uri": "https://localhost:8080/"
        },
        "id": "_rzcSHyZVAGF",
        "outputId": "af88cb12-23e3-44c5-9fe0-44cc6bd08789"
      },
      "execution_count": 51,
      "outputs": [
        {
          "output_type": "execute_result",
          "data": {
            "text/plain": [
              "array([7, 2, 1, ..., 4, 5, 6], dtype=uint8)"
            ]
          },
          "metadata": {},
          "execution_count": 51
        }
      ]
    }
  ]
}